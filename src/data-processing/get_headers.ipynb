{
 "metadata": {
  "language_info": {
   "codemirror_mode": {
    "name": "ipython",
    "version": 3
   },
   "file_extension": ".py",
   "mimetype": "text/x-python",
   "name": "python",
   "nbconvert_exporter": "python",
   "pygments_lexer": "ipython3",
   "version": "3.8.2-final"
  },
  "orig_nbformat": 2,
  "kernelspec": {
   "name": "python_defaultSpec_1598714623162",
   "display_name": "Python 3.8.2 64-bit"
  }
 },
 "nbformat": 4,
 "nbformat_minor": 2,
 "cells": [
  {
   "cell_type": "code",
   "execution_count": 17,
   "metadata": {
    "tags": []
   },
   "outputs": [
    {
     "output_type": "stream",
     "name": "stdout",
     "text": "Tables contained in 'inep-286513.superior':\ninep-286513.superior.2009_DM_ALUNO\ninep-286513.superior.2009_DM_CURSO\ninep-286513.superior.2009_DM_DOCENTE\ninep-286513.superior.2009_DM_IES\ninep-286513.superior.2009_DM_UNIDADE_FUNCIONAMENTO\ninep-286513.superior.2009_DM_VAGAS_INSCRITOS_EAD\ninep-286513.superior.2010_DM_ALUNO\ninep-286513.superior.2010_DM_CURSO\ninep-286513.superior.2010_DM_DOCENTE\ninep-286513.superior.2010_DM_IES\ninep-286513.superior.2010_DM_LOCAL_OFERTA\ninep-286513.superior.2011_DM_ALUNO\ninep-286513.superior.2011_DM_CURSO\ninep-286513.superior.2011_DM_DOCENTE\ninep-286513.superior.2011_DM_IES\ninep-286513.superior.2011_DM_LOCAL_OFERTA\ninep-286513.superior.2012_DM_ALUNO\ninep-286513.superior.2012_DM_CURSO\ninep-286513.superior.2012_DM_DOCENTE\ninep-286513.superior.2012_DM_IES\ninep-286513.superior.2012_DM_LOCAL_OFERTA\ninep-286513.superior.2013_DM_ALUNO\ninep-286513.superior.2013_DM_CURSO\ninep-286513.superior.2013_DM_DOCENTE\ninep-286513.superior.2013_DM_IES\ninep-286513.superior.2013_DM_LOCAL_OFERTA\ninep-286513.superior.2014_DM_ALUNO\ninep-286513.superior.2014_DM_CURSO\ninep-286513.superior.2014_DM_DOCENTE\ninep-286513.superior.2014_DM_IES\ninep-286513.superior.2014_DM_LOCAL_OFERTA\ninep-286513.superior.2015_DM_ALUNO\ninep-286513.superior.2015_DM_CURSO\ninep-286513.superior.2015_DM_DOCENTE\ninep-286513.superior.2015_DM_IES\ninep-286513.superior.2015_DM_LOCAL_OFERTA\ninep-286513.superior.2016_DM_ALUNO\ninep-286513.superior.2016_DM_CURSO\ninep-286513.superior.2016_DM_DOCENTE\ninep-286513.superior.2016_DM_IES\ninep-286513.superior.2016_DM_LOCAL_OFERTA\ninep-286513.superior.2017_DM_ALUNO\ninep-286513.superior.2017_DM_CURSO\ninep-286513.superior.2017_DM_DOCENTE\ninep-286513.superior.2017_DM_IES\ninep-286513.superior.2017_DM_LOCAL_OFERTA\ninep-286513.superior.2017_TB_AUX_AREA_OCDE\ninep-286513.superior.2018_DM_ALUNO\ninep-286513.superior.2018_DM_CURSO\ninep-286513.superior.2018_DM_DOCENTE\ninep-286513.superior.2018_DM_IES\ninep-286513.superior.2018_DM_LOCAL_OFERTA\ninep-286513.superior.2018_TB_AUX_CINE_BRASIL\n"
    }
   ],
   "source": [
    "from google.cloud import bigquery\n",
    "from google.oauth2 import service_account\n",
    "\n",
    "PROJECT_ID = 'inep-286513'\n",
    "DATASET_ID = 'superior'\n",
    "CREDENTIALS = service_account.Credentials.\\\n",
    "              from_service_account_file('../../key/inep-286513-1145bd3494b1.json')\n",
    "\n",
    "subset = 'superior'\n",
    "\n",
    "# try:\n",
    "#     subset = sys.argv[1]\n",
    "# except Exception as e:\n",
    "#     raise ValueError('Pass folder to save as parameter')\n",
    "\n",
    "client = bigquery.Client(credentials=CREDENTIALS)\n",
    "\n",
    "DATASET_ID = f'{PROJECT_ID}.{subset}'\n",
    "tables = client.list_tables(DATASET_ID)\n",
    "\n",
    "print(\"Tables contained in '{}':\".format(DATASET_ID))\n",
    "dataset_ref = client.dataset(DATASET_ID, project=project)\n",
    "my_tables = {}\n",
    "total_tables = set()\n",
    "for table in tables:\n",
    "    table_id = table.table_id)\n",
    "    table_ref = dataset_ref.table(table_id)\n",
    "    table_obj = client.get_table(table_ref)\n",
    "    columns = [schema.name for schema in table.schema]\n",
    "    for col in columns:\n",
    "        total_tables.add(col)"
   ]
  },
  {
   "cell_type": "code",
   "execution_count": null,
   "metadata": {},
   "outputs": [],
   "source": []
  },
  {
   "cell_type": "code",
   "execution_count": 35,
   "metadata": {
    "tags": []
   },
   "outputs": [],
   "source": [
    "from google.cloud import bigquery\n",
    "\n",
    "def test_extract_schema(client): \n",
    "    project = 'inep-286513'\n",
    "    dataset_id = 'superior'\n",
    "    table_id = '2018_TB_AUX_CINE_BRASIL'\n",
    "\n",
    "    dataset_ref = client.dataset(dataset_id, project=project)\n",
    "    table_ref = dataset_ref.table(table_id)\n",
    "    table = client.get_table(table_ref)  # API Request\n",
    "\n",
    "    # View table properties\n",
    "    return table\n",
    "\n",
    "if __name__ == '__main__':\n",
    "    table = test_extract_schema(client)"
   ]
  },
  {
   "cell_type": "code",
   "execution_count": 36,
   "metadata": {},
   "outputs": [
    {
     "output_type": "execute_result",
     "data": {
      "text/plain": "[SchemaField('CO_CINE_AREA_GERAL', 'INTEGER', 'NULLABLE', None, (), None),\n SchemaField('NO_CINE_AREA_GERAL', 'STRING', 'NULLABLE', None, (), None),\n SchemaField('CO_CINE_AREA_ESPECIFICA', 'INTEGER', 'NULLABLE', None, (), None),\n SchemaField('NO_CINE_AREA_ESPECIFICA', 'STRING', 'NULLABLE', None, (), None),\n SchemaField('CO_CINE_AREA_DETALHADA', 'INTEGER', 'NULLABLE', None, (), None),\n SchemaField('NO_CINE_AREA_DETALHADA', 'STRING', 'NULLABLE', None, (), None),\n SchemaField('CO_CINE_ROTULO', 'STRING', 'NULLABLE', None, (), None),\n SchemaField('NO_CINE_ROTULO', 'STRING', 'NULLABLE', None, (), None)]"
     },
     "metadata": {},
     "execution_count": 36
    }
   ],
   "source": [
    "\n",
    "table.schema"
   ]
  },
  {
   "cell_type": "code",
   "execution_count": 38,
   "metadata": {},
   "outputs": [
    {
     "output_type": "execute_result",
     "data": {
      "text/plain": "{'CO_CINE_AREA_DETALHADA',\n 'CO_CINE_AREA_ESPECIFICA',\n 'CO_CINE_AREA_GERAL',\n 'CO_CINE_ROTULO',\n 'NO_CINE_AREA_DETALHADA',\n 'NO_CINE_AREA_ESPECIFICA',\n 'NO_CINE_AREA_GERAL',\n 'NO_CINE_ROTULO'}"
     },
     "metadata": {},
     "execution_count": 38
    }
   ],
   "source": [
    "{schema.name for schema in table.schema}"
   ]
  }
 ]
}