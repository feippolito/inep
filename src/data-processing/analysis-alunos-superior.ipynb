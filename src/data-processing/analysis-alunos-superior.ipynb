{
 "cells": [
  {
   "cell_type": "code",
   "execution_count": null,
   "metadata": {},
   "outputs": [],
   "source": [
    "from pyspark.sql import SparkSession\n",
    "\n",
    "spark = SparkSession.builder.appName('ies').getOrCreate()"
   ]
  },
  {
   "cell_type": "code",
   "execution_count": 7,
   "metadata": {},
   "outputs": [
    {
     "name": "stdout",
     "output_type": "stream",
     "text": [
      "2017_DOCENTES_CO.CSV\t     2018_DOCENTES_CO.CSV\r\n",
      "2017_DOCENTES_NORDESTE.CSV   2018_DOCENTES_NORDESTE.CSV\r\n",
      "2017_DOCENTES_NORTE.CSV      2018_DOCENTES_NORTE.CSV\r\n",
      "2017_DOCENTES_SUDESTE.CSV    2018_DOCENTES_SUDESTE.CSV\r\n",
      "2017_DOCENTES_SUL.CSV\t     2018_DOCENTES_SUL.CSV\r\n",
      "2017_ESCOLAS.CSV\t     2018_ESCOLAS.CSV\r\n",
      "2017_MATRICULA_CO.CSV\t     2018_MATRICULA_CO.CSV\r\n",
      "2017_MATRICULA_NORDESTE.CSV  2018_MATRICULA_NORDESTE.CSV\r\n",
      "2017_MATRICULA_NORTE.CSV     2018_MATRICULA_NORTE.CSV\r\n",
      "2017_MATRICULA_SUDESTE.CSV   2018_MATRICULA_SUDESTE.CSV\r\n",
      "2017_MATRICULA_SUL.CSV\t     2018_MATRICULA_SUL.CSV\r\n",
      "2017_TURMAS.CSV\t\t     2018_TURMAS.CSV\r\n"
     ]
    }
   ],
   "source": [
    "!ls /home/felipe/inep-data/data/bucket-download/censo-escolar/"
   ]
  },
  {
   "cell_type": "code",
   "execution_count": 2,
   "metadata": {
    "scrolled": true
   },
   "outputs": [
    {
     "name": "stdout",
     "output_type": "stream",
     "text": [
      "2017_DM_ALUNO.CSV    2017_DM_LOCAL_OFERTA.CSV\t2018_DM_DOCENTE.CSV\r\n",
      "2017_DM_CURSO.CSV    2017_TB_AUX_AREA_OCDE.CSV\t2018_DM_IES.CSV\r\n",
      "2017_DM_DOCENTE.CSV  2018_DM_ALUNO.CSV\t\t2018_DM_LOCAL_OFERTA.CSV\r\n",
      "2017_DM_IES.CSV      2018_DM_CURSO.CSV\t\t2018_TB_AUX_CINE_BRASIL.CSV\r\n"
     ]
    }
   ],
   "source": [
    "!ls /home/felipe/inep-data/data/bucket-download/superior/"
   ]
  },
  {
   "cell_type": "code",
   "execution_count": 11,
   "metadata": {},
   "outputs": [
    {
     "data": {
      "text/plain": [
       "Index(['NU_ANO_CENSO', 'ID_MATRICULA', 'CO_PESSOA_FISICA', 'NU_DIA', 'NU_MES',\n",
       "       'NU_ANO', 'NU_IDADE_REFERENCIA', 'NU_IDADE', 'NU_DURACAO_TURMA',\n",
       "       'NU_DUR_ATIV_COMP_MESMA_REDE'],\n",
       "      dtype='object')"
      ]
     },
     "metadata": {},
     "output_type": "display_data"
    },
    {
     "data": {
      "text/plain": [
       "Index(['NU_ANO_CENSO', 'CO_IES', 'TP_CATEGORIA_ADMINISTRATIVA',\n",
       "       'TP_ORGANIZACAO_ACADEMICA', 'CO_CURSO', 'CO_CURSO_POLO', 'TP_TURNO',\n",
       "       'TP_GRAU_ACADEMICO', 'TP_MODALIDADE_ENSINO', 'TP_NIVEL_ACADEMICO'],\n",
       "      dtype='object')"
      ]
     },
     "metadata": {},
     "output_type": "display_data"
    }
   ],
   "source": [
    "import pandas as pd\n",
    "escola_path = '../../data/bucket-download/censo-escolar/2017_MATRICULA_SUDESTE.CSV'\n",
    "ies_path = '../../data/bucket-download/superior/2018_DM_ALUNO.CSV'\n",
    "display(pd.read_csv(escola_path, nrows=1, sep = '|').columns[0:10])\n",
    "display(pd.read_csv(ies_path, nrows=1, sep = '|').columns[0:10])"
   ]
  },
  {
   "cell_type": "code",
   "execution_count": null,
   "metadata": {},
   "outputs": [],
   "source": [
    "df = {}\n",
    "\n",
    "df['2017_MATRICULA_SUDESTE'] = spark.read.csv(escola_path,\n",
    "                    inferSchema = True,\n",
    "                    header = True,\n",
    "                    encoding='ISO-8859-1',\n",
    "                    sep = '|').select(['CO_PESSOA_FISICA'])\n",
    "\n",
    "df['2018_DM_ALUNO'] = spark.read.csv(ies_apth,\n",
    "                    inferSchema = True,\n",
    "                    header = True,\n",
    "                    encoding='ISO-8859-1',\n",
    "                    sep = '|').select(['ID_ALUNO','CO_IES'])"
   ]
  },
  {
   "cell_type": "code",
   "execution_count": null,
   "metadata": {},
   "outputs": [],
   "source": []
  },
  {
   "cell_type": "code",
   "execution_count": null,
   "metadata": {},
   "outputs": [],
   "source": [
    "from pyspark.sql.functions import isnan, when, count, col\n",
    "nulls = df['2018_DM_ALUNO'].select([count(when(isnan(c) | col(c).isNull(), c)\n",
    "                                         ).alias(c) for c in df['2018_DM_ALUNO'].columns]\n",
    "                                  ).collect()\n",
    "nulls"
   ]
  }
 ],
 "metadata": {
  "kernelspec": {
   "display_name": "Python 3",
   "language": "python",
   "name": "python3"
  },
  "language_info": {
   "codemirror_mode": {
    "name": "ipython",
    "version": 3
   },
   "file_extension": ".py",
   "mimetype": "text/x-python",
   "name": "python",
   "nbconvert_exporter": "python",
   "pygments_lexer": "ipython3",
   "version": "3.8.2"
  }
 },
 "nbformat": 4,
 "nbformat_minor": 4
}
