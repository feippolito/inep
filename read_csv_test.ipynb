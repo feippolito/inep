{
 "metadata": {
  "language_info": {
   "codemirror_mode": {
    "name": "ipython",
    "version": 3
   },
   "file_extension": ".py",
   "mimetype": "text/x-python",
   "name": "python",
   "nbconvert_exporter": "python",
   "pygments_lexer": "ipython3",
   "version": "3.8.2-final"
  },
  "orig_nbformat": 2,
  "kernelspec": {
   "name": "python_defaultSpec_1597697493500",
   "display_name": "Python 3.8.2 64-bit ('venv': venv)"
  }
 },
 "nbformat": 4,
 "nbformat_minor": 2,
 "cells": [
  {
   "cell_type": "code",
   "execution_count": 1,
   "metadata": {},
   "outputs": [],
   "source": [
    "import pandas as pd\n",
    "import os"
   ]
  },
  {
   "cell_type": "code",
   "execution_count": 21,
   "metadata": {
    "tags": []
   },
   "outputs": [
    {
     "output_type": "stream",
     "name": "stdout",
     "text": "DM_DOCENTE.CSV\nDM_ALUNO.CSV\nTB_AUX_AREA_OCDE.CSV\nDM_LOCAL_OFERTA.CSV\nDM_CURSO.CSV\nDM_IES.CSV\nDM_DOCENTE.CSV\nDM_ALUNO.CSV\nDM_LOCAL_OFERTA.CSV\nDM_CURSO.CSV\nDM_IES.CSV\nDM_DOCENTE.CSV\nDM_ALUNO.CSV\nDM_LOCAL_OFERTA.CSV\nDM_CURSO.CSV\nDM_IES.CSV\nDM_DOCENTE.CSV\nDM_ALUNO.CSV\nDM_LOCAL_OFERTA.CSV\nDM_CURSO.CSV\nDM_IES.CSV\nTB_AUX_CINE_BRASIL.CSV\nDM_DOCENTE.CSV\nDM_ALUNO.CSV\nDM_LOCAL_OFERTA.CSV\nDM_CURSO.CSV\nDM_IES.CSV\nDM_DOCENTE.CSV\nDM_ALUNO.CSV\nDM_LOCAL_OFERTA.CSV\nDM_CURSO.CSV\nDM_IES.CSV\nDM_DOCENTE.CSV\nDM_ALUNO.CSV\nDM_LOCAL_OFERTA.CSV\nDM_CURSO.CSV\nDM_IES.CSV\nDM_DOCENTE.CSV\nDM_ALUNO.CSV\nDM_LOCAL_OFERTA.CSV\nDM_CURSO.CSV\nDM_IES.CSV\nDM_DOCENTE.CSV\nDM_ALUNO.CSV\nDM_LOCAL_OFERTA.CSV\nDM_CURSO.CSV\nDM_IES.CSV\n"
    }
   ],
   "source": [
    "for dirpath, subdirs, files in os.walk(\"./unzipped/superior\"):\n",
    "  for f in files:\n",
    "      if f.endswith('.CSV') or f.endswith('.csv') :\n",
    "        ano = dirpath.split('/')[2].split('_')[-1]\n",
    "        print(ano, f)"
   ]
  }
 ]
}